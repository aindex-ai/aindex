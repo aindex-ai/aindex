{
  "cells": [
    {
      "cell_type": "markdown",
      "metadata": {
        "id": "resN8ush2I0q"
      },
      "source": [
        "# 🌀 aindex - functions"
      ]
    },
    {
      "cell_type": "code",
      "execution_count": 16,
      "metadata": {
        "id": "VP99aLmt2I0t",
        "colab": {
          "base_uri": "https://localhost:8080/"
        },
        "outputId": "810df220-d721-4990-86a4-332651e58aaf"
      },
      "outputs": [
        {
          "output_type": "stream",
          "name": "stdout",
          "text": [
            "Looking in indexes: https://pypi.org/simple, https://us-python.pkg.dev/colab-wheels/public/simple/\n",
            "Collecting aindex\n",
            "  Downloading aindex-0.1.1-py3-none-any.whl (2.7 kB)\n",
            "Installing collected packages: aindex\n",
            "Successfully installed aindex-0.1.1\n"
          ]
        }
      ],
      "source": [
        "pip install aindex"
      ]
    },
    {
      "cell_type": "code",
      "source": [
        "from aindex import aindex as a\n",
        "\n",
        "# a.function_name_here\n",
        "a.get_current_weather"
      ],
      "metadata": {
        "colab": {
          "base_uri": "https://localhost:8080/"
        },
        "id": "cqF2UEjidb-3",
        "outputId": "630475f3-9f23-40ae-e95a-9007c91e5243"
      },
      "execution_count": 24,
      "outputs": [
        {
          "output_type": "execute_result",
          "data": {
            "text/plain": [
              "{'name': 'get_current_weather',\n",
              " 'description': 'Get the current weather in a given location',\n",
              " 'parameters': {'type': 'object',\n",
              "  'properties': {'location': {'type': 'string',\n",
              "    'description': 'The city and state, e.g. San Francisco, CA'},\n",
              "   'unit': {'type': 'string', 'enum': ['celsius', 'fahrenheit']}},\n",
              "  'required': ['location']}}"
            ]
          },
          "metadata": {},
          "execution_count": 24
        }
      ]
    },
    {
      "cell_type": "code",
      "source": [
        "import requests\n",
        "import json\n",
        "\n",
        "# Your OpenAI API key\n",
        "OPENAI_API_KEY = 'your_api_here'\n",
        "\n",
        "headers = {\n",
        "    'Content-Type': 'application/json',\n",
        "    'Authorization': f'Bearer {OPENAI_API_KEY}'\n",
        "}\n",
        "\n",
        "data = {\n",
        "  \"model\": \"gpt-4-0613\",\n",
        "  \"messages\": [\n",
        "    {\"role\": \"user\", \"content\": \"What is the weather like in Boston?\"}\n",
        "  ],\n",
        "  \"functions\": [\n",
        "    a.get_current_weather\n",
        "  ]\n",
        "}\n",
        "\n",
        "response = requests.post(\n",
        "    'https://api.openai.com/v1/chat/completions',\n",
        "    headers=headers,\n",
        "    data=json.dumps(data)\n",
        ")\n",
        "\n",
        "response.json()"
      ],
      "metadata": {
        "colab": {
          "base_uri": "https://localhost:8080/"
        },
        "id": "66MM50zveBEj",
        "outputId": "86661277-bdb1-4c68-f38e-40c3145cce3b"
      },
      "execution_count": 28,
      "outputs": [
        {
          "output_type": "execute_result",
          "data": {
            "text/plain": [
              "{'id': 'chatcmpl-7VACxr0EODZA8rLe70pK9TnrESA0w',\n",
              " 'object': 'chat.completion',\n",
              " 'created': 1687661763,\n",
              " 'model': 'gpt-4-0613',\n",
              " 'choices': [{'index': 0,\n",
              "   'message': {'role': 'assistant',\n",
              "    'content': None,\n",
              "    'function_call': {'name': 'get_current_weather',\n",
              "     'arguments': '{\\n  \"location\": \"Boston\"\\n}'}},\n",
              "   'finish_reason': 'function_call'}],\n",
              " 'usage': {'prompt_tokens': 82, 'completion_tokens': 16, 'total_tokens': 98}}"
            ]
          },
          "metadata": {},
          "execution_count": 28
        }
      ]
    }
  ],
  "metadata": {
    "kernelspec": {
      "display_name": "Python 3",
      "language": "python",
      "name": "python3"
    },
    "language_info": {
      "codemirror_mode": {
        "name": "ipython",
        "version": 3
      },
      "file_extension": ".py",
      "mimetype": "text/x-python",
      "name": "python",
      "nbconvert_exporter": "python",
      "pygments_lexer": "ipython3",
      "version": "3.9.13"
    },
    "orig_nbformat": 4,
    "colab": {
      "provenance": []
    }
  },
  "nbformat": 4,
  "nbformat_minor": 0
}